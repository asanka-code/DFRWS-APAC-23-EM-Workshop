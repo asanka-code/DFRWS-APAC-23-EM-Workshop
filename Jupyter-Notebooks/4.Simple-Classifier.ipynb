{
 "cells": [
  {
   "cell_type": "markdown",
   "metadata": {},
   "source": [
    "## Feature Extraction from EM Data"
   ]
  },
  {
   "cell_type": "code",
   "execution_count": 1,
   "metadata": {},
   "outputs": [],
   "source": [
    "import h5py\n",
    "import numpy as np\n",
    "import matplotlib.pyplot as plt\n",
    "from scipy import signal\n",
    "from sklearn.model_selection import train_test_split\n",
    "from sklearn.metrics import confusion_matrix\n",
    "from sklearn.metrics import classification_report\n",
    "from sklearn.neural_network import MLPClassifier"
   ]
  },
  {
   "cell_type": "code",
   "execution_count": 2,
   "metadata": {},
   "outputs": [],
   "source": [
    "# openning the file\n",
    "hf = h5py.File('/home/asanka/Downloads/ASEADOS-Dataset/em-dataset.h5', 'r')"
   ]
  },
  {
   "cell_type": "code",
   "execution_count": 3,
   "metadata": {},
   "outputs": [
    {
     "name": "stdout",
     "output_type": "stream",
     "text": [
      "dataset_creater: Asanka P. Sayakkara <asa@ucsc.cmb.ac.lk>\n",
      "dataset_date: 2021-03-01\n",
      "dataset_version: 1\n"
     ]
    }
   ],
   "source": [
    "# printing the attributes of the file\n",
    "for item in hf.attrs.keys():\n",
    "    print(item + \":\", hf.attrs[item])"
   ]
  },
  {
   "cell_type": "code",
   "execution_count": 4,
   "metadata": {},
   "outputs": [
    {
     "name": "stdout",
     "output_type": "stream",
     "text": [
      "internet-of-things\n",
      "internet-of-things/amazon-echo-dot\n",
      "internet-of-things/amazon-echo-dot/asking-a-definition\n",
      "internet-of-things/amazon-echo-dot/asking-for-time\n",
      "internet-of-things/amazon-echo-dot/asking-to-play-radio\n",
      "internet-of-things/amazon-echo-dot/controlling-lightbulb\n",
      "internet-of-things/amazon-echo-dot/device-idle\n",
      "internet-of-things/amazon-echo-dot/device-muted\n",
      "internet-of-things/amazon-echo-dot/device-resetting\n",
      "internet-of-things/amazon-echo-dot/just-wakeup-word\n",
      "internet-of-things/amazon-echo-dot/powering-on\n",
      "internet-of-things/amazon-echo-show5\n",
      "internet-of-things/amazon-echo-show5/asking-a-definition\n",
      "internet-of-things/amazon-echo-show5/asking-for-time\n",
      "internet-of-things/amazon-echo-show5/asking-to-play-radio\n",
      "internet-of-things/amazon-echo-show5/controlling-lightbulb\n",
      "internet-of-things/amazon-echo-show5/device-idle\n",
      "internet-of-things/amazon-echo-show5/device-resetting\n",
      "internet-of-things/amazon-echo-show5/just-wakeup-word\n",
      "internet-of-things/amazon-echo-show5/powering-off\n",
      "internet-of-things/amazon-echo-show5/powering-on\n",
      "internet-of-things/google-home\n",
      "internet-of-things/google-home/asking-a-definition\n",
      "internet-of-things/google-home/asking-for-time\n",
      "internet-of-things/google-home/asking-to-play-radio\n",
      "internet-of-things/google-home/controlling-lightbulb\n",
      "internet-of-things/google-home/device-idle\n",
      "internet-of-things/google-home/device-muted\n",
      "internet-of-things/google-home/device-resetting\n",
      "internet-of-things/google-home/just-wakeup-word\n",
      "internet-of-things/google-home/powering-on\n",
      "internet-of-things/samsung-smartthings\n",
      "internet-of-things/samsung-smartthings/controlling-smart-outlet\n",
      "internet-of-things/samsung-smartthings/device-idle\n",
      "internet-of-things/samsung-smartthings/device-powered-off\n",
      "internet-of-things/samsung-smartthings/device-powering-on\n",
      "internet-of-things/samsung-smartthings/openning-the-app\n",
      "internet-of-things/samsung-smartthings/view-arrival-sensor\n",
      "internet-of-things/samsung-smartthings/view-door-sensor\n",
      "internet-of-things/samsung-smartthings/view-motion-sensor\n",
      "smartphones\n",
      "smartphones/galaxyprime\n",
      "smartphones/galaxyprime/audio-recording\n",
      "smartphones/galaxyprime/camera-photo\n",
      "smartphones/galaxyprime/camera-video\n",
      "smartphones/galaxyprime/email-app\n",
      "smartphones/galaxyprime/gallary-app\n",
      "smartphones/galaxyprime/home-screen\n",
      "smartphones/galaxyprime/idle\n",
      "smartphones/galaxyprime/phone-app\n",
      "smartphones/galaxyprime/sms-app\n",
      "smartphones/galaxyprime/web-browser-app\n",
      "smartphones/iphone4s\n",
      "smartphones/iphone4s/calendar-app\n",
      "smartphones/iphone4s/camera-photo\n",
      "smartphones/iphone4s/camera-video\n",
      "smartphones/iphone4s/email-app\n",
      "smartphones/iphone4s/gallary-app\n",
      "smartphones/iphone4s/home-screen\n",
      "smartphones/iphone4s/idle\n",
      "smartphones/iphone4s/phone-app\n",
      "smartphones/iphone4s/sms-app\n",
      "smartphones/iphone4s/web-browser-app\n",
      "smartphones/nokia42\n",
      "smartphones/nokia42/calendar-app\n",
      "smartphones/nokia42/camera-photo\n",
      "smartphones/nokia42/camera-video\n",
      "smartphones/nokia42/email-app\n",
      "smartphones/nokia42/gallary-app\n",
      "smartphones/nokia42/home-screen\n",
      "smartphones/nokia42/idle\n",
      "smartphones/nokia42/phone-app\n",
      "smartphones/nokia42/sms-app\n",
      "smartphones/nokia42/web-browser-app\n",
      "smartphones/sonyxperia\n",
      "smartphones/sonyxperia/calendar-app\n",
      "smartphones/sonyxperia/camera-photo\n",
      "smartphones/sonyxperia/camera-video\n",
      "smartphones/sonyxperia/email-app\n",
      "smartphones/sonyxperia/gallary-app\n",
      "smartphones/sonyxperia/home-screen\n",
      "smartphones/sonyxperia/idle\n",
      "smartphones/sonyxperia/phone-app\n",
      "smartphones/sonyxperia/sms-app\n",
      "smartphones/sonyxperia/web-browser-app\n"
     ]
    }
   ],
   "source": [
    "def printname(name):\n",
    "    print(name)\n",
    "    \n",
    "# viewing full data structure\n",
    "hf.visit(printname)"
   ]
  },
  {
   "cell_type": "markdown",
   "metadata": {},
   "source": [
    "### Some Settings"
   ]
  },
  {
   "cell_type": "code",
   "execution_count": 5,
   "metadata": {},
   "outputs": [],
   "source": [
    "# number of samples per class\n",
    "num_samp_per_class = 100\n",
    "\n",
    "# FFT size for the STFT operation (which is same as the feature vector size)\n",
    "fft_size = feature_vector_size = 2048 #1024\n",
    "\n",
    "# number of overlapping samples for the STFT operation\n",
    "fft_overlap = 256"
   ]
  },
  {
   "cell_type": "markdown",
   "metadata": {},
   "source": [
    "### STFT Features for the Data File (Class 0)"
   ]
  },
  {
   "cell_type": "code",
   "execution_count": 6,
   "metadata": {},
   "outputs": [],
   "source": [
    "class_label = 0"
   ]
  },
  {
   "cell_type": "code",
   "execution_count": 7,
   "metadata": {},
   "outputs": [
    {
     "name": "stdout",
     "output_type": "stream",
     "text": [
      "(59900416,)\n"
     ]
    }
   ],
   "source": [
    "# reading a dataset\n",
    "data = hf.get('/smartphones/iphone4s/calendar-app')\n",
    "print(np.array(data).shape)"
   ]
  },
  {
   "cell_type": "code",
   "execution_count": 8,
   "metadata": {},
   "outputs": [
    {
     "name": "stderr",
     "output_type": "stream",
     "text": [
      "/usr/lib/python3/dist-packages/scipy/signal/_spectral_py.py:1814: UserWarning: Input data is complex, switching to return_onesided=False\n",
      "  warnings.warn('Input data is complex, switching to '\n"
     ]
    },
    {
     "name": "stdout",
     "output_type": "stream",
     "text": [
      "2048\n",
      "33428\n",
      "(2048, 33428)\n"
     ]
    }
   ],
   "source": [
    "f, t, Zxx = signal.stft(data, fs=20e6, nperseg=fft_size, noverlap=fft_overlap)\n",
    "print(len(f))\n",
    "print(len(t))\n",
    "print(Zxx.shape)"
   ]
  },
  {
   "cell_type": "code",
   "execution_count": 9,
   "metadata": {},
   "outputs": [
    {
     "name": "stdout",
     "output_type": "stream",
     "text": [
      "(100, 2048)\n",
      "(100,)\n"
     ]
    }
   ],
   "source": [
    "del data\n",
    "\n",
    "Zxx = Zxx.transpose()\n",
    "\n",
    "X = Zxx[:num_samp_per_class]\n",
    "y = np.full(num_samp_per_class, class_label)\n",
    "del Zxx\n",
    "\n",
    "print(X.shape)\n",
    "print(y.shape)"
   ]
  },
  {
   "cell_type": "markdown",
   "metadata": {},
   "source": [
    "### STFT Features for the Data File (Class 1)"
   ]
  },
  {
   "cell_type": "code",
   "execution_count": 10,
   "metadata": {},
   "outputs": [],
   "source": [
    "class_label = 1"
   ]
  },
  {
   "cell_type": "code",
   "execution_count": 11,
   "metadata": {},
   "outputs": [
    {
     "name": "stdout",
     "output_type": "stream",
     "text": [
      "(59507712,)\n"
     ]
    }
   ],
   "source": [
    "# reading a dataset\n",
    "data = hf.get('/smartphones/iphone4s/web-browser-app')\n",
    "print(np.array(data).shape)"
   ]
  },
  {
   "cell_type": "code",
   "execution_count": 12,
   "metadata": {},
   "outputs": [
    {
     "name": "stdout",
     "output_type": "stream",
     "text": [
      "2048\n",
      "33209\n",
      "(2048, 33209)\n"
     ]
    }
   ],
   "source": [
    "f, t, Zxx = signal.stft(data, fs=20e6, nperseg=fft_size, noverlap=fft_overlap)\n",
    "print(len(f))\n",
    "print(len(t))\n",
    "print(Zxx.shape)"
   ]
  },
  {
   "cell_type": "code",
   "execution_count": 13,
   "metadata": {},
   "outputs": [
    {
     "name": "stdout",
     "output_type": "stream",
     "text": [
      "(200, 2048)\n",
      "(200,)\n"
     ]
    }
   ],
   "source": [
    "del data\n",
    "\n",
    "Zxx = Zxx.transpose()\n",
    "\n",
    "X = np.concatenate((X, Zxx[:num_samp_per_class]), axis=0) \n",
    "y = np.concatenate((y, np.full(num_samp_per_class, class_label)), axis=0)\n",
    "del Zxx\n",
    "\n",
    "print(X.shape)\n",
    "print(y.shape)"
   ]
  },
  {
   "cell_type": "markdown",
   "metadata": {},
   "source": [
    "### Machine Learning"
   ]
  },
  {
   "cell_type": "code",
   "execution_count": 14,
   "metadata": {},
   "outputs": [],
   "source": [
    "X = np.abs(X)"
   ]
  },
  {
   "cell_type": "code",
   "execution_count": 15,
   "metadata": {},
   "outputs": [],
   "source": [
    "y = np.abs(y)"
   ]
  },
  {
   "cell_type": "code",
   "execution_count": 16,
   "metadata": {},
   "outputs": [],
   "source": [
    "# Split data to train and test sets\n",
    "X_train, X_test, y_train, y_test = train_test_split(X, y, test_size=0.1, random_state=0)"
   ]
  },
  {
   "cell_type": "code",
   "execution_count": 17,
   "metadata": {},
   "outputs": [],
   "source": [
    "clf = MLPClassifier(solver='lbfgs', alpha=1e-20, hidden_layer_sizes=(10, 5), random_state=1)"
   ]
  },
  {
   "cell_type": "code",
   "execution_count": 18,
   "metadata": {},
   "outputs": [],
   "source": [
    "clf.fit(X_train, y_train)\n",
    "y_pred = clf.predict (X_test)"
   ]
  },
  {
   "cell_type": "code",
   "execution_count": 19,
   "metadata": {},
   "outputs": [
    {
     "name": "stdout",
     "output_type": "stream",
     "text": [
      "[[ 4  6]\n",
      " [ 0 10]]\n",
      "              precision    recall  f1-score   support\n",
      "\n",
      "           0       1.00      0.40      0.57        10\n",
      "           1       0.62      1.00      0.77        10\n",
      "\n",
      "    accuracy                           0.70        20\n",
      "   macro avg       0.81      0.70      0.67        20\n",
      "weighted avg       0.81      0.70      0.67        20\n",
      "\n"
     ]
    }
   ],
   "source": [
    "print(confusion_matrix(y_test, y_pred))\n",
    "print(classification_report(y_test, y_pred))"
   ]
  },
  {
   "cell_type": "markdown",
   "metadata": {},
   "source": [
    "### Closing the HDF5 File"
   ]
  },
  {
   "cell_type": "code",
   "execution_count": 20,
   "metadata": {},
   "outputs": [],
   "source": [
    "hf.close()"
   ]
  },
  {
   "cell_type": "code",
   "execution_count": null,
   "metadata": {},
   "outputs": [],
   "source": []
  }
 ],
 "metadata": {
  "kernelspec": {
   "display_name": "Python 3 (ipykernel)",
   "language": "python",
   "name": "python3"
  },
  "language_info": {
   "codemirror_mode": {
    "name": "ipython",
    "version": 3
   },
   "file_extension": ".py",
   "mimetype": "text/x-python",
   "name": "python",
   "nbconvert_exporter": "python",
   "pygments_lexer": "ipython3",
   "version": "3.10.12"
  }
 },
 "nbformat": 4,
 "nbformat_minor": 4
}
